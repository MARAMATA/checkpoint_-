{
 "cells": [
  {
   "cell_type": "markdown",
   "id": "07318a5d",
   "metadata": {},
   "source": [
    "# QUESTION1"
   ]
  },
  {
   "cell_type": "code",
   "execution_count": 21,
   "id": "2eff4c4e",
   "metadata": {},
   "outputs": [
    {
     "name": "stdout",
     "output_type": "stream",
     "text": [
      "Saisir votre prénom: Maramata\n",
      "Saisir votre nom: DIOP\n",
      "Votre nom complet est DIOP Maramata\n"
     ]
    }
   ],
   "source": [
    "prenom = input(\"Saisir votre prénom: \") #saisi du prenom\n",
    "nom = input(\"Saisir votre nom: \") #saisi du nom\n",
    "nomcomplet = nom+\" \"+prenom\n",
    "print(\"Votre nom complet est\",nomcomplet) #affichage du nom complet"
   ]
  },
  {
   "cell_type": "markdown",
   "id": "ff16db74",
   "metadata": {},
   "source": [
    "# QUESTION2"
   ]
  },
  {
   "cell_type": "code",
   "execution_count": 41,
   "id": "2b0e69aa",
   "metadata": {},
   "outputs": [
    {
     "name": "stdout",
     "output_type": "stream",
     "text": [
      "Entrez un nombre 5\n",
      "615\n"
     ]
    }
   ],
   "source": [
    "n = int(input(\"Entrez un nombre \"))\n",
    "nn = int(str(n)+str(n))\n",
    "nnn = int(str(n)+str(n)+str(n))\n",
    "somme = n+nn+nnn\n",
    "print(somme)"
   ]
  },
  {
   "cell_type": "markdown",
   "id": "ac093797",
   "metadata": {},
   "source": [
    "# QUESTION3"
   ]
  },
  {
   "cell_type": "code",
   "execution_count": 35,
   "id": "919762a9",
   "metadata": {},
   "outputs": [
    {
     "name": "stdout",
     "output_type": "stream",
     "text": [
      "Entrez un nombre: 89\n",
      "le nombre est impair.\n"
     ]
    }
   ],
   "source": [
    "nombre = int(input(\"Entrez un nombre: \"))\n",
    "if nombre%2== 0:  #condition, inclusion des entiers divisbles par 2\n",
    "    print(\"le nombre est pair.\")\n",
    "else:\n",
    "    print(\"le nombre est impair.\")"
   ]
  },
  {
   "cell_type": "markdown",
   "id": "a6fd1856",
   "metadata": {},
   "source": [
    "# QUESTION4"
   ]
  },
  {
   "cell_type": "code",
   "execution_count": 3,
   "id": "4b79600f",
   "metadata": {},
   "outputs": [
    {
     "name": "stdout",
     "output_type": "stream",
     "text": [
      "2002 2009 2016 2023 2037 2044 2051 2058 2072 2079 2086 2093 2107 2114 2121 2128 2142 2149 2156 2163 2177 2184 2191 2198 2212 2219 2226 2233 2247 2254 2261 2268 2282 2289 2296 2303 2317 2324 2331 2338 2352 2359 2366 2373 2387 2394 2401 2408 2422 2429 2436 2443 2457 2464 2471 2478 2492 2499 2506 2513 2527 2534 2541 2548 2562 2569 2576 2583 2597 2604 2611 2618 2632 2639 2646 2653 2667 2674 2681 2688 2702 2709 2716 2723 2737 2744 2751 2758 2772 2779 2786 2793 2807 2814 2821 2828 2842 2849 2856 2863 2877 2884 2891 2898 2912 2919 2926 2933 2947 2954 2961 2968 2982 2989 2996 3003 3017 3024 3031 3038 3052 3059 3066 3073 3087 3094 3101 3108 3122 3129 3136 3143 3157 3164 3171 3178 3192 3199 "
     ]
    }
   ],
   "source": [
    "for i in range(2000, 3201):\n",
    "    if i % 7 == 0 and i % 5 != 0: #inclusion de tous les nombres divible par 7 et exclusion de tous les nombres multiples de 5\n",
    "        print(i, end=' ')"
   ]
  },
  {
   "cell_type": "markdown",
   "id": "1d5488cf",
   "metadata": {},
   "source": [
    "# QUESTION5"
   ]
  },
  {
   "cell_type": "code",
   "execution_count": 2,
   "id": "aa508d51",
   "metadata": {},
   "outputs": [
    {
     "name": "stdout",
     "output_type": "stream",
     "text": [
      "Entrez un nombre: 8\n",
      "40320\n"
     ]
    }
   ],
   "source": [
    "n = int(input(\"Entrez un nombre: \")) #demander d entrer un nombre\n",
    "factorielle = 1 #initialisation de la variable factorielle \n",
    "for i in range(1, n+1):\n",
    "    factorielle *= i #multiplication de la factorielle pour chaque nombre\n",
    "print(factorielle)"
   ]
  },
  {
   "cell_type": "markdown",
   "id": "83cb60b8",
   "metadata": {},
   "source": [
    "# QUESTION6"
   ]
  },
  {
   "cell_type": "code",
   "execution_count": 15,
   "id": "2c766b14",
   "metadata": {},
   "outputs": [
    {
     "name": "stdout",
     "output_type": "stream",
     "text": [
      " hlogmcd\n"
     ]
    }
   ],
   "source": [
    "def  supprimer_caracteres_impairs(chaine):\n",
    "    resultat = \" \"\n",
    "    for i in range(len(chaine)):\n",
    "        if i % 2 == 0:\n",
    "            resultat += chaine[i]\n",
    "            \n",
    "    return resultat\n",
    "\n",
    "chaine = \"hello gomycode\"\n",
    "resultat = supprimer_caracteres_impairs(chaine)\n",
    "print(resultat)\n"
   ]
  },
  {
   "cell_type": "markdown",
   "id": "4e658520",
   "metadata": {},
   "source": [
    "# QUESTION7"
   ]
  },
  {
   "cell_type": "code",
   "execution_count": 19,
   "id": "caf03053",
   "metadata": {},
   "outputs": [
    {
     "name": "stdout",
     "output_type": "stream",
     "text": [
      "400.0\n"
     ]
    }
   ],
   "source": [
    "def mettre_a_jour_prix(prix):\n",
    "    if prix >= 500:  # Si le prix est de 500 ou plus, appliquer une remise de 50 %\n",
    "        nouveau_prix = prix * 0.5\n",
    "    elif prix >= 200:  # Sinon, si le prix est compris entre 200 et 500 (200 inclus), appliquer une remise de 30 %\n",
    "        nouveau_prix = prix * 0.7\n",
    "    else:         # Sinon, le prix est inférieur à 200, appliquer une remise de 10 %\n",
    "        nouveau_prix = prix * 0.9\n",
    "    return nouveau_prix   #retour au nouveau prix\n",
    "prix = 800\n",
    "nouveau_prix = mettre_a_jour_prix(prix)\n",
    "print(nouveau_prix)"
   ]
  }
 ],
 "metadata": {
  "kernelspec": {
   "display_name": "Python 3 (ipykernel)",
   "language": "python",
   "name": "python3"
  },
  "language_info": {
   "codemirror_mode": {
    "name": "ipython",
    "version": 3
   },
   "file_extension": ".py",
   "mimetype": "text/x-python",
   "name": "python",
   "nbconvert_exporter": "python",
   "pygments_lexer": "ipython3",
   "version": "3.9.13"
  }
 },
 "nbformat": 4,
 "nbformat_minor": 5
}
